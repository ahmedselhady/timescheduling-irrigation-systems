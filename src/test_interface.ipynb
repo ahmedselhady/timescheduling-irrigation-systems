{
 "cells": [
  {
   "cell_type": "code",
   "execution_count": 1,
   "metadata": {},
   "outputs": [],
   "source": [
    "from utils import Utils as ut\n",
    "from model.time_scheduling_api import TimeSchedulingAlgorithm as tsa\n",
    "from pprint import pprint"
   ]
  },
  {
   "cell_type": "code",
   "execution_count": 2,
   "metadata": {},
   "outputs": [],
   "source": [
    "uploaded_file = \"/home/ahmed/work/Freelance/Ammo Assem/timescheduling-irrigation-systems/data/New/NOTATION.txt\"\n",
    "pump_unit_estimated_gpm = 1305\n",
    "allow_exact = True\n",
    "allow_oversampling = False\n",
    "allow_undersampling = False"
   ]
  },
  {
   "cell_type": "code",
   "execution_count": 3,
   "metadata": {},
   "outputs": [
    {
     "name": "stdout",
     "output_type": "stream",
     "text": [
      "Got data\n",
      "finding best schedule\n"
     ]
    },
    {
     "name": "stderr",
     "output_type": "stream",
     "text": [
      "100%|██████████| 447/447 [00:00<00:00, 531.84it/s]\n"
     ]
    },
    {
     "name": "stdout",
     "output_type": "stream",
     "text": [
      "Batch #0 with GPM = 1260.030 is valid with nearest GPM = 1305.0\n",
      "Batch #1 with GPM = 1273.390 is valid with nearest GPM = 1305.0\n",
      "Batch #2 with GPM = 1280.440 is valid with nearest GPM = 1305.0\n",
      "Batch #3 with GPM = 1287.250 is valid with nearest GPM = 1305.0\n",
      "Batch #4 with GPM = 1274.860 is valid with nearest GPM = 1305.0\n",
      "Batch #5 with GPM = 1261.510 is valid with nearest GPM = 1305.0\n",
      "Batch #6 with GPM = 1255.320 is valid with nearest GPM = 1305.0\n",
      "Batch #7 with GPM = 1259.850 is valid with nearest GPM = 1305.0\n",
      "Batch #8 with GPM = 1247.700 is valid with nearest GPM = 1305.0\n",
      "Batch #9 with GPM = 1253.580 is valid with nearest GPM = 1305.0\n",
      "Batch #10 with GPM = 1276.410 is valid with nearest GPM = 1305.0\n",
      "Batch #11 with GPM = 1202.810 is valid with nearest GPM = 1305.0\n"
     ]
    },
    {
     "name": "stderr",
     "output_type": "stream",
     "text": [
      "100%|██████████| 162/162 [00:00<00:00, 668.09it/s] \n"
     ]
    },
    {
     "name": "stdout",
     "output_type": "stream",
     "text": [
      "Batch #0 with GPM = 1259.750 is valid with nearest GPM = 1305.0\n",
      "Batch #1 with GPM = 1272.750 is valid with nearest GPM = 1305.0\n",
      "Batch #2 with GPM = 1181.250 is valid with nearest GPM = 1305.0\n"
     ]
    },
    {
     "name": "stderr",
     "output_type": "stream",
     "text": [
      "100%|██████████| 57/57 [00:00<00:00, 1028.02it/s]"
     ]
    },
    {
     "name": "stdout",
     "output_type": "stream",
     "text": [
      "Batch #0 with GPM = 1245.410 is valid with nearest GPM = 1305.0\n",
      "Batch #1 with GPM = 291.320 is NOT valid with nearest GPM = 435.0\n"
     ]
    },
    {
     "name": "stderr",
     "output_type": "stream",
     "text": [
      "\n"
     ]
    }
   ],
   "source": [
    "data = ut.read_datafile_as_dataframe_from_path(uploaded_file)\n",
    "print(\"Got data\")\n",
    "pump_type, pump_type_name = ut.get_pump_type(data, pump_unit_estimated_gpm)\n",
    "valve_type_keys = data.valve_type_key.unique().tolist()\n",
    "print(\"finding best schedule\")\n",
    "solution = tsa.find_best_scheduling(\n",
    "    data,\n",
    "    pump_unit_estimated_gpm,\n",
    "    pump_type,\n",
    "    allow_exact,\n",
    "    allow_oversampling,\n",
    "    allow_undersampling,\n",
    ")"
   ]
  },
  {
   "cell_type": "code",
   "execution_count": 5,
   "metadata": {},
   "outputs": [
    {
     "name": "stdout",
     "output_type": "stream",
     "text": [
      "'D'\n",
      "'----------'\n",
      "{'A': [('A-D189', 22.4),\n",
      "       ('A-D178', 22.6),\n",
      "       ('A-D172', 22.94),\n",
      "       ('A-D124', 22.4),\n",
      "       ('A-D400', 21.2),\n",
      "       ('A-D197', 20.75),\n",
      "       ('A-D398', 19.9),\n",
      "       ('A-D148', 19.3),\n",
      "       ('A-D142', 18.6),\n",
      "       ('A-D242', 15.9),\n",
      "       ('A-D131', 10.8)],\n",
      " 'B': [('B-D22', 22.8),\n",
      "       ('B-D234', 20.3),\n",
      "       ('B-D57', 20.1),\n",
      "       ('B-D410', 20.2),\n",
      "       ('B-D382', 20.0),\n",
      "       ('B-D50', 19.4),\n",
      "       ('B-D11', 19.8),\n",
      "       ('B-D55', 18.2),\n",
      "       ('B-D49', 18.4),\n",
      "       ('B-D430', 18.8),\n",
      "       ('B-D235', 17.2),\n",
      "       ('B-D236', 16.4),\n",
      "       ('B-D438', 16.3),\n",
      "       ('B-D421', 16.3),\n",
      "       ('B-D20', 15.9),\n",
      "       ('B-D439', 15.8),\n",
      "       ('B-D420', 15.2),\n",
      "       ('B-D123', 10.8),\n",
      "       ('B-D122', 10.8)],\n",
      " 'C': [('C-D383', 22.5),\n",
      "       ('C-D102', 22.7),\n",
      "       ('C-D68', 22.4),\n",
      "       ('C-D145', 22.0),\n",
      "       ('C-D83', 21.4),\n",
      "       ('C-D391', 19.6),\n",
      "       ('C-D108', 19.7),\n",
      "       ('C-D73', 19.4),\n",
      "       ('C-D434', 19.6),\n",
      "       ('C-D433', 18.5),\n",
      "       ('C-D66', 17.4),\n",
      "       ('C-D431', 17.6)],\n",
      " 'D': [('D-D332', 22.3),\n",
      "       ('D-D323', 22.6),\n",
      "       ('D-D357', 21.6),\n",
      "       ('D-D353', 22.0),\n",
      "       ('D-D337', 21.6),\n",
      "       ('D-D329', 21.7),\n",
      "       ('D-D318', 21.35),\n",
      "       ('D-D351', 20.8),\n",
      "       ('D-D326', 20.3),\n",
      "       ('D-D372', 19.26),\n",
      "       ('D-D307', 19.2),\n",
      "       ('D-D320', 18.6),\n",
      "       ('D-D315', 15.4)],\n",
      " 'E': [('E-D282', 22.77),\n",
      "       ('E-D295', 21.9),\n",
      "       ('E-D266', 21.8),\n",
      "       ('E-D381', 19.6),\n",
      "       ('E-D375', 16.68),\n",
      "       ('E-D280', 16.64),\n",
      "       ('E-D279', 16.64),\n",
      "       ('E-D278', 16.32),\n",
      "       ('E-D248', 14.0),\n",
      "       ('E-D287', 11.0),\n",
      "       ('E-D251', 8.34),\n",
      "       ('E-D250', 8.34),\n",
      "       ('E-D263', 7.0)]}\n",
      "'----------'\n",
      "1\n",
      "'----------'\n",
      "'1260.030'\n"
     ]
    }
   ],
   "source": [
    "for s_ in solution:\n",
    "\n",
    "    for key_, sol_dict, gid, batch_gpm in zip(s_[0], s_[1], s_[2], s_[3]):\n",
    "        \n",
    "        pprint(key_)\n",
    "        pprint(\"-\"*10)\n",
    "        pprint(sol_dict)\n",
    "        pprint(\"-\"*10)\n",
    "        pprint(gid)\n",
    "        pprint(\"-\"*10)\n",
    "        pprint(batch_gpm)\n",
    "        break\n",
    "    break"
   ]
  },
  {
   "cell_type": "code",
   "execution_count": null,
   "metadata": {},
   "outputs": [],
   "source": []
  },
  {
   "cell_type": "code",
   "execution_count": null,
   "metadata": {},
   "outputs": [],
   "source": []
  }
 ],
 "metadata": {
  "kernelspec": {
   "display_name": "genaidemo",
   "language": "python",
   "name": "python3"
  },
  "language_info": {
   "codemirror_mode": {
    "name": "ipython",
    "version": 3
   },
   "file_extension": ".py",
   "mimetype": "text/x-python",
   "name": "python",
   "nbconvert_exporter": "python",
   "pygments_lexer": "ipython3",
   "version": "3.12.3"
  }
 },
 "nbformat": 4,
 "nbformat_minor": 2
}
