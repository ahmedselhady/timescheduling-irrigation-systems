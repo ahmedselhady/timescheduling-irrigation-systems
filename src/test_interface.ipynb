{
 "cells": [
  {
   "cell_type": "markdown",
   "metadata": {},
   "source": [
    "# Algorithm"
   ]
  },
  {
   "cell_type": "code",
   "execution_count": 1,
   "metadata": {},
   "outputs": [],
   "source": [
    "from model.algorithm import irregation_scheduling_algorithm"
   ]
  },
  {
   "cell_type": "code",
   "execution_count": 2,
   "metadata": {},
   "outputs": [
    {
     "name": "stdout",
     "output_type": "stream",
     "text": [
      "Got data\n",
      "finding best schedule\n"
     ]
    },
    {
     "name": "stderr",
     "output_type": "stream",
     "text": [
      "100%|██████████| 447/447 [00:00<00:00, 891.33it/s] \n"
     ]
    },
    {
     "name": "stdout",
     "output_type": "stream",
     "text": [
      "Batch #0 with GPM = 1260.030 is valid with nearest GPM = 1305.0\n",
      "Batch #1 with GPM = 1273.390 is valid with nearest GPM = 1305.0\n",
      "Batch #2 with GPM = 1280.440 is valid with nearest GPM = 1305.0\n",
      "Batch #3 with GPM = 1287.250 is valid with nearest GPM = 1305.0\n",
      "Batch #4 with GPM = 1274.860 is valid with nearest GPM = 1305.0\n",
      "Batch #5 with GPM = 1261.510 is valid with nearest GPM = 1305.0\n",
      "Batch #6 with GPM = 1255.320 is valid with nearest GPM = 1305.0\n",
      "Batch #7 with GPM = 1259.850 is valid with nearest GPM = 1305.0\n",
      "Batch #8 with GPM = 1247.700 is valid with nearest GPM = 1305.0\n",
      "Batch #9 with GPM = 1253.580 is valid with nearest GPM = 1305.0\n",
      "Batch #10 with GPM = 1276.410 is valid with nearest GPM = 1305.0\n",
      "Batch #11 with GPM = 1202.810 is valid with nearest GPM = 1305.0\n"
     ]
    },
    {
     "name": "stderr",
     "output_type": "stream",
     "text": [
      "100%|██████████| 162/162 [00:00<00:00, 2067.54it/s]\n"
     ]
    },
    {
     "name": "stdout",
     "output_type": "stream",
     "text": [
      "Batch #0 with GPM = 1259.750 is valid with nearest GPM = 1305.0\n",
      "Batch #1 with GPM = 1272.750 is valid with nearest GPM = 1305.0\n",
      "Batch #2 with GPM = 1181.250 is valid with nearest GPM = 1305.0\n"
     ]
    },
    {
     "name": "stderr",
     "output_type": "stream",
     "text": [
      "100%|██████████| 57/57 [00:00<00:00, 2049.46it/s]\n"
     ]
    },
    {
     "name": "stdout",
     "output_type": "stream",
     "text": [
      "Batch #0 with GPM = 1245.410 is valid with nearest GPM = 1305.0\n",
      "Batch #1 with GPM = 291.320 is NOT valid with nearest GPM = 435.0\n"
     ]
    },
    {
     "name": "stderr",
     "output_type": "stream",
     "text": [
      "100%|██████████| 447/447 [00:00<00:00, 984.55it/s] \n"
     ]
    },
    {
     "name": "stdout",
     "output_type": "stream",
     "text": [
      "Batch #0 with GPM = 1400.330 is valid with nearest GPM = 1435.5000000000002\n",
      "Batch #1 with GPM = 1408.640 is valid with nearest GPM = 1435.5000000000002\n",
      "Batch #2 with GPM = 1398.550 is valid with nearest GPM = 1435.5000000000002\n",
      "Batch #3 with GPM = 1385.000 is valid with nearest GPM = 1435.5000000000002\n",
      "Batch #4 with GPM = 1386.080 is valid with nearest GPM = 1435.5000000000002\n",
      "Batch #5 with GPM = 1411.220 is valid with nearest GPM = 1435.5000000000002\n",
      "Batch #6 with GPM = 1387.900 is valid with nearest GPM = 1435.5000000000002\n",
      "Batch #7 with GPM = 1399.730 is valid with nearest GPM = 1435.5000000000002\n",
      "Batch #8 with GPM = 1382.280 is valid with nearest GPM = 1435.5000000000002\n",
      "Batch #9 with GPM = 1420.610 is valid with nearest GPM = 1435.5000000000002\n",
      "Batch #10 with GPM = 1152.810 is NOT valid with nearest GPM = 957.0000000000001\n",
      "\n",
      "\n",
      "Value Key: A-D241\n",
      "\n",
      " \n",
      "made correction to the solution for optimality\n",
      "\n",
      "\n",
      "Value Key: A-D239\n",
      "\n",
      " \n",
      "made correction to the solution for optimality\n",
      "\n",
      "\n",
      "Value Key: D-D350\n",
      "\n",
      " \n",
      "made correction to the solution for optimality\n",
      "Batch #0 with GPM = 1436.100 is valid with nearest GPM = 1435.5000000000002\n",
      "Batch #1 with GPM = 1387.900 is valid with nearest GPM = 1435.5000000000002\n",
      "Batch #2 with GPM = 1398.550 is valid with nearest GPM = 1435.5000000000002\n",
      "Batch #3 with GPM = 1399.730 is valid with nearest GPM = 1435.5000000000002\n",
      "Batch #4 with GPM = 1400.330 is valid with nearest GPM = 1435.5000000000002\n",
      "Batch #5 with GPM = 1408.640 is valid with nearest GPM = 1435.5000000000002\n",
      "Batch #6 with GPM = 1411.220 is valid with nearest GPM = 1435.5000000000002\n",
      "Batch #7 with GPM = 1420.610 is valid with nearest GPM = 1435.5000000000002\n",
      "Batch #8 with GPM = 1431.360 is valid with nearest GPM = 1435.5000000000002\n",
      "Batch #9 with GPM = 1434.780 is valid with nearest GPM = 1435.5000000000002\n",
      "Batch #10 with GPM = 1003.930 is valid with nearest GPM = 957.0000000000001\n"
     ]
    },
    {
     "name": "stderr",
     "output_type": "stream",
     "text": [
      "100%|██████████| 162/162 [00:00<00:00, 2009.03it/s]\n"
     ]
    },
    {
     "name": "stdout",
     "output_type": "stream",
     "text": [
      "Batch #0 with GPM = 1403.000 is valid with nearest GPM = 1435.5000000000002\n",
      "Batch #1 with GPM = 1385.500 is valid with nearest GPM = 1435.5000000000002\n",
      "Batch #2 with GPM = 925.250 is valid with nearest GPM = 957.0000000000001\n"
     ]
    },
    {
     "name": "stderr",
     "output_type": "stream",
     "text": [
      "100%|██████████| 57/57 [00:00<00:00, 2354.15it/s]\n"
     ]
    },
    {
     "name": "stdout",
     "output_type": "stream",
     "text": [
      "Batch #0 with GPM = 1387.960 is valid with nearest GPM = 1435.5000000000002\n",
      "Batch #1 with GPM = 148.770 is NOT valid with nearest GPM = 478.50000000000006\n"
     ]
    },
    {
     "name": "stderr",
     "output_type": "stream",
     "text": [
      "100%|██████████| 447/447 [00:00<00:00, 1016.89it/s]\n"
     ]
    },
    {
     "name": "stdout",
     "output_type": "stream",
     "text": [
      "Batch #0 with GPM = 1146.890 is valid with nearest GPM = 1174.5\n",
      "Batch #1 with GPM = 1143.200 is valid with nearest GPM = 1174.5\n",
      "Batch #2 with GPM = 1139.580 is valid with nearest GPM = 1174.5\n",
      "Batch #3 with GPM = 1156.090 is valid with nearest GPM = 1174.5\n",
      "Batch #4 with GPM = 1140.760 is valid with nearest GPM = 1174.5\n",
      "Batch #5 with GPM = 1144.440 is valid with nearest GPM = 1174.5\n",
      "Batch #6 with GPM = 1143.020 is valid with nearest GPM = 1174.5\n",
      "Batch #7 with GPM = 1156.220 is valid with nearest GPM = 1174.5\n",
      "Batch #8 with GPM = 1148.030 is valid with nearest GPM = 1174.5\n",
      "Batch #9 with GPM = 1126.330 is valid with nearest GPM = 1174.5\n",
      "Batch #10 with GPM = 1162.270 is valid with nearest GPM = 1174.5\n",
      "Batch #11 with GPM = 1125.560 is valid with nearest GPM = 1174.5\n",
      "Batch #12 with GPM = 1111.160 is valid with nearest GPM = 1174.5\n",
      "Batch #13 with GPM = 289.600 is NOT valid with nearest GPM = 391.5\n"
     ]
    },
    {
     "name": "stderr",
     "output_type": "stream",
     "text": [
      "100%|██████████| 162/162 [00:00<00:00, 2132.38it/s]\n"
     ]
    },
    {
     "name": "stdout",
     "output_type": "stream",
     "text": [
      "Batch #0 with GPM = 1136.750 is valid with nearest GPM = 1174.5\n",
      "Batch #1 with GPM = 1139.000 is valid with nearest GPM = 1174.5\n",
      "Batch #2 with GPM = 1154.250 is valid with nearest GPM = 1174.5\n",
      "Batch #3 with GPM = 283.750 is NOT valid with nearest GPM = 391.5\n"
     ]
    },
    {
     "name": "stderr",
     "output_type": "stream",
     "text": [
      "100%|██████████| 57/57 [00:00<00:00, 2492.68it/s]"
     ]
    },
    {
     "name": "stdout",
     "output_type": "stream",
     "text": [
      "Batch #0 with GPM = 1114.980 is valid with nearest GPM = 1174.5\n",
      "Batch #1 with GPM = 421.750 is valid with nearest GPM = 391.5\n"
     ]
    },
    {
     "name": "stderr",
     "output_type": "stream",
     "text": [
      "\n"
     ]
    }
   ],
   "source": [
    "solution = irregation_scheduling_algorithm(uploaded_file = \"/home/ahmed/work/Freelance/Ammo Assem/timescheduling-irrigation-systems/data/New/NOTATION.txt\",\n",
    "pump_unit_estimated_gpm = 1305,\n",
    "allow_exact = True,\n",
    "allow_oversampling = False,\n",
    "allow_undersampling = False)"
   ]
  },
  {
   "cell_type": "code",
   "execution_count": 5,
   "metadata": {},
   "outputs": [],
   "source": [
    "json.dump(solution, open(\"../example2.json\", \"w\"))"
   ]
  },
  {
   "cell_type": "code",
   "execution_count": null,
   "metadata": {},
   "outputs": [],
   "source": []
  }
 ],
 "metadata": {
  "kernelspec": {
   "display_name": "genaidemo",
   "language": "python",
   "name": "python3"
  },
  "language_info": {
   "codemirror_mode": {
    "name": "ipython",
    "version": 3
   },
   "file_extension": ".py",
   "mimetype": "text/x-python",
   "name": "python",
   "nbconvert_exporter": "python",
   "pygments_lexer": "ipython3",
   "version": "3.12.3"
  }
 },
 "nbformat": 4,
 "nbformat_minor": 2
}
